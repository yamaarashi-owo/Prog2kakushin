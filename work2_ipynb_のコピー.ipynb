{
  "nbformat": 4,
  "nbformat_minor": 0,
  "metadata": {
    "colab": {
      "provenance": [],
      "authorship_tag": "ABX9TyOv+BV8wFQfUqJcDk6uBwgq",
      "include_colab_link": true
    },
    "kernelspec": {
      "name": "python3",
      "display_name": "Python 3"
    },
    "language_info": {
      "name": "python"
    }
  },
  "cells": [
    {
      "cell_type": "markdown",
      "metadata": {
        "id": "view-in-github",
        "colab_type": "text"
      },
      "source": [
        "<a href=\"https://colab.research.google.com/github/yamaarashi-owo/Prog2kakushin/blob/main/work2_ipynb_%E3%81%AE%E3%82%B3%E3%83%94%E3%83%BC.ipynb\" target=\"_parent\"><img src=\"https://colab.research.google.com/assets/colab-badge.svg\" alt=\"Open In Colab\"/></a>"
      ]
    },
    {
      "cell_type": "markdown",
      "source": [
        "Excelなどのデータ(.txt)からデータを読み込み、偏差値を求める\n",
        "\n",
        "ex_2.txtやdata2のように整数でないときにうまくいかない\n",
        "\n",
        "ランダムに１から１００までの数字を３０個、data3.txtとして保存した"
      ],
      "metadata": {
        "id": "OQSpFvYRF0DW"
      }
    },
    {
      "cell_type": "code",
      "execution_count": 139,
      "metadata": {
        "id": "QG7CA_3tFwBb"
      },
      "outputs": [],
      "source": [
        "import numpy as np\n",
        "import glob"
      ]
    },
    {
      "cell_type": "code",
      "source": [
        "t = input('テキストファイルを選んでください：')\n",
        "\n",
        "files = glob.glob('*')\n",
        "\n",
        "if t in files :\n",
        "  data = np.loadtxt(t,delimiter=',')\n",
        "  print(data)\n",
        "else :\n",
        "  print('そのテキストファイルはありません')"
      ],
      "metadata": {
        "id": "3C4U689SOntp",
        "colab": {
          "base_uri": "https://localhost:8080/"
        },
        "outputId": "ad9a82f4-48b5-409f-a084-a23936e67b23"
      },
      "execution_count": 158,
      "outputs": [
        {
          "output_type": "stream",
          "name": "stdout",
          "text": [
            "テキストファイルを選んでください：data3.txt\n",
            "[ 35.  77.  89.  33.  39.  12.  15.  96. 100.  75.  94.  61.   9.  16.\n",
            "  28.  45.  84.  54.  80.  51.  30.  39.  27.   1.  82.  38.  55.  13.\n",
            "  12.  89.]\n"
          ]
        }
      ]
    },
    {
      "cell_type": "code",
      "source": [
        "data2 = np.array([2.5,3,6.7,7,3.9,4])"
      ],
      "metadata": {
        "id": "NluRCsZIYpjh"
      },
      "execution_count": 151,
      "outputs": []
    },
    {
      "cell_type": "code",
      "source": [
        "data3 = np.random.randint(1,101,30)\n",
        "np.savetxt('data3.txt',data3,delimiter=',',fmt='%d')"
      ],
      "metadata": {
        "id": "bMaRWDYvY-Xn"
      },
      "execution_count": 157,
      "outputs": []
    },
    {
      "cell_type": "code",
      "source": [
        "mean = np.mean(data)\n",
        "std = np.std(data)\n",
        "\n",
        "s = int(np.random.choice(data,1))\n",
        "\n",
        "h = 10 * (s - mean) / std + 50\n",
        "\n",
        "print('データ：',data)\n",
        "print('平均：',str(format(mean,'.2f')))\n",
        "print('偏差：',str(format(std,'.2f')))\n",
        "print('選んだデータ',str(s))\n",
        "print('偏差値',str(format(h,'.2f')))\n"
      ],
      "metadata": {
        "colab": {
          "base_uri": "https://localhost:8080/"
        },
        "id": "VSkJtqq58Nm3",
        "outputId": "c20e6a6b-d4a2-412f-ff81-572928980eaf"
      },
      "execution_count": 159,
      "outputs": [
        {
          "output_type": "stream",
          "name": "stdout",
          "text": [
            "データ： [ 35.  77.  89.  33.  39.  12.  15.  96. 100.  75.  94.  61.   9.  16.\n",
            "  28.  45.  84.  54.  80.  51.  30.  39.  27.   1.  82.  38.  55.  13.\n",
            "  12.  89.]\n",
            "平均： 49.30\n",
            "偏差： 30.13\n",
            "選んだデータ 30\n",
            "偏差値 43.59\n"
          ]
        }
      ]
    }
  ]
}