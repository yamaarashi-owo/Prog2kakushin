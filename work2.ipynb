{
  "nbformat": 4,
  "nbformat_minor": 0,
  "metadata": {
    "colab": {
      "provenance": [],
      "authorship_tag": "ABX9TyPhRsCQhWM+TwNjQZ7nH0ly",
      "include_colab_link": true
    },
    "kernelspec": {
      "name": "python3",
      "display_name": "Python 3"
    },
    "language_info": {
      "name": "python"
    }
  },
  "cells": [
    {
      "cell_type": "markdown",
      "metadata": {
        "id": "view-in-github",
        "colab_type": "text"
      },
      "source": [
        "<a href=\"https://colab.research.google.com/github/yamaarashi-owo/Prog2kakushin/blob/main/work2.ipynb\" target=\"_parent\"><img src=\"https://colab.research.google.com/assets/colab-badge.svg\" alt=\"Open In Colab\"/></a>"
      ]
    },
    {
      "cell_type": "markdown",
      "source": [
        "偏差値を求める\n",
        "\n",
        "ex_2.txtやdata2のように整数でないときにうまくいかない\n",
        "\n",
        "ランダムに１から１００までの数字を３０個、data3.txtとして保存した\n",
        "\n",
        "ランダムに１から１００までの数字を３０個、data4.csvとして保存した"
      ],
      "metadata": {
        "id": "OQSpFvYRF0DW"
      }
    },
    {
      "cell_type": "code",
      "execution_count": 15,
      "metadata": {
        "id": "QG7CA_3tFwBb"
      },
      "outputs": [],
      "source": [
        "import numpy as np\n",
        "import glob\n",
        "import csv"
      ]
    },
    {
      "cell_type": "code",
      "source": [
        "data2 = np.array([2.5,3,6.7,7,3.9,4])"
      ],
      "metadata": {
        "id": "NluRCsZIYpjh"
      },
      "execution_count": 3,
      "outputs": []
    },
    {
      "cell_type": "code",
      "source": [
        "data3 = np.random.randint(1,101,30)\n",
        "np.savetxt('data3.txt',data3,delimiter=',',fmt='%d')"
      ],
      "metadata": {
        "id": "bMaRWDYvY-Xn"
      },
      "execution_count": 12,
      "outputs": []
    },
    {
      "cell_type": "code",
      "source": [
        "data4 = np.random.randint(1,101,30)\n",
        "with open('data4.csv', 'w', encoding='utf-8') as f:\n",
        "  w = csv.writer(f)\n",
        "  w.writerow(data4)"
      ],
      "metadata": {
        "id": "FBX4xC1eEtNC"
      },
      "execution_count": 20,
      "outputs": []
    },
    {
      "cell_type": "code",
      "source": [
        "t = input('ファイルを選んでください：')\n",
        "\n",
        "files = glob.glob('*')\n",
        "\n",
        "if t in files :\n",
        "  data = np.loadtxt(t,delimiter=',')\n",
        "  print(data)\n",
        "else :\n",
        "  print('そのテキストファイルはありません')"
      ],
      "metadata": {
        "id": "3C4U689SOntp",
        "colab": {
          "base_uri": "https://localhost:8080/"
        },
        "outputId": "045a4524-2865-4a5e-c230-d5b2cf03cc70"
      },
      "execution_count": 21,
      "outputs": [
        {
          "output_type": "stream",
          "name": "stdout",
          "text": [
            "ファイルを選んでください：data4.csv\n",
            "[21. 83. 82. 46. 27. 77. 92.  6. 72. 22. 56. 11. 79. 90. 69. 53. 77. 60.\n",
            " 23. 62. 67. 68. 67.  9.  5. 14. 33. 89. 82. 57.]\n"
          ]
        }
      ]
    },
    {
      "cell_type": "code",
      "source": [
        "mean = np.mean(data)\n",
        "std = np.std(data)\n",
        "\n",
        "s = int(np.random.choice(data,1))\n",
        "\n",
        "h = 10 * (s - mean) / std + 50\n",
        "\n",
        "print('データ：',data)\n",
        "print('平均：',str(format(mean,'.2f')))\n",
        "print('偏差：',str(format(std,'.2f')))\n",
        "print('選んだデータ',str(s))\n",
        "print('偏差値',str(format(h,'.2f')))\n"
      ],
      "metadata": {
        "colab": {
          "base_uri": "https://localhost:8080/"
        },
        "id": "VSkJtqq58Nm3",
        "outputId": "da960f62-3e6a-4e81-e6e1-1ec683979117"
      },
      "execution_count": 22,
      "outputs": [
        {
          "output_type": "stream",
          "name": "stdout",
          "text": [
            "データ： [21. 83. 82. 46. 27. 77. 92.  6. 72. 22. 56. 11. 79. 90. 69. 53. 77. 60.\n",
            " 23. 62. 67. 68. 67.  9.  5. 14. 33. 89. 82. 57.]\n",
            "平均： 53.30\n",
            "偏差： 28.12\n",
            "選んだデータ 27\n",
            "偏差値 40.65\n"
          ]
        }
      ]
    }
  ]
}