{
  "nbformat": 4,
  "nbformat_minor": 0,
  "metadata": {
    "colab": {
      "provenance": [],
      "authorship_tag": "ABX9TyOv+BV8wFQfUqJcDk6uBwgq",
      "include_colab_link": true
    },
    "kernelspec": {
      "name": "python3",
      "display_name": "Python 3"
    },
    "language_info": {
      "name": "python"
    }
  },
  "cells": [
    {
      "cell_type": "markdown",
      "metadata": {
        "id": "view-in-github",
        "colab_type": "text"
      },
      "source": [
        "<a href=\"https://colab.research.google.com/github/yamaarashi-owo/Prog2kakushin/blob/main/work2.ipynb\" target=\"_parent\"><img src=\"https://colab.research.google.com/assets/colab-badge.svg\" alt=\"Open In Colab\"/></a>"
      ]
    },
    {
      "cell_type": "markdown",
      "source": [
        "Excelなどのデータ(.txt)からデータを読み込み、偏差値を求める\n",
        "\n",
        "ex_2.txtやdata2のように整数でないときにうまくいかない\n",
        "\n",
        "ランダムに１から１００までの数字を３０個、data3.txtとして保存した"
      ],
      "metadata": {
        "id": "OQSpFvYRF0DW"
      }
    },
    {
      "cell_type": "code",
      "execution_count": 1,
      "metadata": {
        "id": "QG7CA_3tFwBb"
      },
      "outputs": [],
      "source": [
        "import numpy as np\n",
        "import glob"
      ]
    },
    {
      "cell_type": "code",
      "source": [
        "t = input('テキストファイルを選んでください：')\n",
        "\n",
        "files = glob.glob('*')\n",
        "\n",
        "if t in files :\n",
        "  data = np.loadtxt(t,delimiter=',')\n",
        "  print(data)\n",
        "else :\n",
        "  print('そのテキストファイルはありません')"
      ],
      "metadata": {
        "id": "3C4U689SOntp",
        "colab": {
          "base_uri": "https://localhost:8080/"
        },
        "outputId": "7bd164a4-3361-4736-ff8a-5acc6ef5e95b"
      },
      "execution_count": 7,
      "outputs": [
        {
          "output_type": "stream",
          "name": "stdout",
          "text": [
            "テキストファイルを選んでください：data3.txt\n",
            "[25. 16. 20. 98. 50.  3.  3. 96. 67. 26. 28.  9. 79. 32. 18. 38. 69. 40.\n",
            " 90. 98. 28.  6. 32. 89. 23. 28. 40. 74. 85. 52.]\n"
          ]
        }
      ]
    },
    {
      "cell_type": "code",
      "source": [
        "data2 = np.array([2.5,3,6.7,7,3.9,4])"
      ],
      "metadata": {
        "id": "NluRCsZIYpjh"
      },
      "execution_count": 3,
      "outputs": []
    },
    {
      "cell_type": "code",
      "source": [
        "data3 = np.random.randint(1,101,30)\n",
        "np.savetxt('data3.txt',data3,delimiter=',',fmt='%d')"
      ],
      "metadata": {
        "id": "bMaRWDYvY-Xn"
      },
      "execution_count": 12,
      "outputs": []
    },
    {
      "cell_type": "code",
      "source": [
        "mean = np.mean(data)\n",
        "std = np.std(data)\n",
        "\n",
        "s = int(np.random.choice(data,1))\n",
        "\n",
        "h = 10 * (s - mean) / std + 50\n",
        "\n",
        "print('データ：',data)\n",
        "print('平均：',str(format(mean,'.2f')))\n",
        "print('偏差：',str(format(std,'.2f')))\n",
        "print('選んだデータ',str(s))\n",
        "print('偏差値',str(format(h,'.2f')))\n"
      ],
      "metadata": {
        "colab": {
          "base_uri": "https://localhost:8080/"
        },
        "id": "VSkJtqq58Nm3",
        "outputId": "c7aa346f-aece-4c5a-8c78-afe2db807ad6"
      },
      "execution_count": 13,
      "outputs": [
        {
          "output_type": "stream",
          "name": "stdout",
          "text": [
            "データ： [25. 16. 20. 98. 50.  3.  3. 96. 67. 26. 28.  9. 79. 32. 18. 38. 69. 40.\n",
            " 90. 98. 28.  6. 32. 89. 23. 28. 40. 74. 85. 52.]\n",
            "平均： 45.40\n",
            "偏差： 30.55\n",
            "選んだデータ 18\n",
            "偏差値 41.03\n"
          ]
        }
      ]
    }
  ]
}