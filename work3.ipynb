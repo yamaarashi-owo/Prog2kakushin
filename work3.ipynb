{
  "nbformat": 4,
  "nbformat_minor": 0,
  "metadata": {
    "colab": {
      "provenance": [],
      "authorship_tag": "ABX9TyPD/OwOOvskj2XH3rjnkV7s",
      "include_colab_link": true
    },
    "kernelspec": {
      "name": "python3",
      "display_name": "Python 3"
    },
    "language_info": {
      "name": "python"
    }
  },
  "cells": [
    {
      "cell_type": "markdown",
      "metadata": {
        "id": "view-in-github",
        "colab_type": "text"
      },
      "source": [
        "<a href=\"https://colab.research.google.com/github/yamaarashi-owo/Prog2kakushin/blob/main/work3.ipynb\" target=\"_parent\"><img src=\"https://colab.research.google.com/assets/colab-badge.svg\" alt=\"Open In Colab\"/></a>"
      ]
    },
    {
      "cell_type": "markdown",
      "source": [
        "簡易QRコード"
      ],
      "metadata": {
        "id": "07hdjfCrGJ1R"
      }
    },
    {
      "cell_type": "code",
      "execution_count": 69,
      "metadata": {
        "id": "LiMeb2S7GGz5"
      },
      "outputs": [],
      "source": [
        "import numpy as np\n",
        "import cv2, sys\n",
        "from google.colab.patches import cv2_imshow\n",
        "import glob"
      ]
    },
    {
      "cell_type": "code",
      "source": [
        "#450＊450の黒の画像を作る\n",
        "img_black = np.zeros((450,450,3), np.uint8)\n",
        "cv2_imshow(img_black)\n",
        "cv2.imwrite('black.jpg',img_black)"
      ],
      "metadata": {
        "colab": {
          "base_uri": "https://localhost:8080/",
          "height": 485
        },
        "id": "1OvrZSPf0E9V",
        "outputId": "819a656d-1d68-4801-9f44-b0e51f54e806"
      },
      "execution_count": 68,
      "outputs": [
        {
          "output_type": "display_data",
          "data": {
            "text/plain": [
              "<PIL.Image.Image image mode=RGB size=450x450>"
            ],
            "image/png": "[encoded data removed]"
          },
          "metadata": {}
        },
        {
          "output_type": "execute_result",
          "data": {
            "text/plain": [
              "True"
            ]
          },
          "metadata": {},
          "execution_count": 68
        }
      ]
    },
    {
      "cell_type": "code",
      "source": [
        "#文字データを作る\n",
        "data_ch = np.array(['0','1','2','3','4','5','6','7','8','9','A'])\n",
        "#色データを作る\n",
        "data_co = np.array([250000250,250000200,250000150,250000100,250000050,250250000,250200000,250150000,250100000,250050000,250000000])"
      ],
      "metadata": {
        "id": "h_yC9z2q1Ztf"
      },
      "execution_count": 70,
      "outputs": []
    },
    {
      "cell_type": "code",
      "source": [
        "#文字データから色データ\n",
        "moji = input('指定の中の文字６個：')\n",
        "data_n = np.array([])\n",
        "data_n1 = np.array([])\n",
        "for i in range(6) :\n",
        "  a = moji[i]\n",
        "  x = np.where(data_ch == a)[0][0]\n",
        "  data_n = np.append(data_n,str(x))\n",
        "print(data_n)\n",
        "for j in range(6) :\n",
        "  b = int(data_n[j])\n",
        "  x = data_co[b]\n",
        "  data_n1 = np.append(data_n1,str(x))\n",
        "print(data_n1)"
      ],
      "metadata": {
        "colab": {
          "base_uri": "https://localhost:8080/"
        },
        "id": "w3mnfHs32Mgy",
        "outputId": "8b58ee21-9fba-4825-bdd3-ac237105c6c3"
      },
      "execution_count": 71,
      "outputs": [
        {
          "output_type": "stream",
          "name": "stdout",
          "text": [
            "指定の中の文字６個：083A41\n",
            "['0' '8' '3' '10' '4' '1']\n",
            "['250000250' '250100000' '250000100' '250000000' '250000050' '250000200']\n"
          ]
        }
      ]
    },
    {
      "cell_type": "code",
      "source": [
        "#色データから画像\n",
        "for i in range(6) :\n",
        "  B = int(data_n1[i][:3])\n",
        "  G = int(data_n1[i][3:6])\n",
        "  R = int(data_n1[i][6:])\n",
        "\n",
        "  img = np.full((150,150,3),(B,G,R))\n",
        "\n",
        "  if i == 0:\n",
        "    img_black[0:150,150:300] = img\n",
        "  elif i <= 3 :\n",
        "    img_black[150:300,150*(i-1):150*i] = img\n",
        "  else :\n",
        "    img_black[300:450,150*(i-4):150*(i-3)] = img\n",
        "\n",
        "\n",
        "cv2_imshow(img_black)"
      ],
      "metadata": {
        "colab": {
          "base_uri": "https://localhost:8080/",
          "height": 467
        },
        "id": "uZMdStp--qCi",
        "outputId": "1b0521f3-3532-4022-8d00-904140cd275d"
      },
      "execution_count": 72,
      "outputs": [
        {
          "output_type": "display_data",
          "data": {
            "text/plain": [
              "<PIL.Image.Image image mode=RGB size=450x450>"
            ],
            "image/png": "[encoded data removed]"
          },
          "metadata": {}
        }
      ]
    },
    {
      "cell_type": "code",
      "source": [
        "#画像から色データ\n",
        "data_cr = np.array([])\n",
        "for iy in range(3) :\n",
        "  for ix in range(3) :\n",
        "    Br = f'{(img_black[75+iy*150,75+ix*150][0]):03}'\n",
        "    Gr = f'{(img_black[75+iy*150,75+ix*150][1]):03}'\n",
        "    Rr = f'{(img_black[75+iy*150,75+ix*150][2]):03}'\n",
        "    x = Br + Gr + Rr\n",
        "\n",
        "    if x != '000000000' :\n",
        "      data_cr = np.append(data_cr,x)\n",
        "\n",
        "print(data_cr)"
      ],
      "metadata": {
        "colab": {
          "base_uri": "https://localhost:8080/"
        },
        "id": "23t1coOuCwK9",
        "outputId": "6236668b-cfe8-47dd-d2a1-ddb773ede061"
      },
      "execution_count": 73,
      "outputs": [
        {
          "output_type": "stream",
          "name": "stdout",
          "text": [
            "['250000250' '250100000' '250000100' '250000000' '250000050' '250000200']\n"
          ]
        }
      ]
    },
    {
      "cell_type": "code",
      "source": [
        "#色データから文字データ\n",
        "data_n = np.array([])\n",
        "data_n1 = np.array([])\n",
        "for i in range(6) :\n",
        "  a = int(data_cr[i])\n",
        "  x = np.where(data_co == a)[0][0]\n",
        "  data_n = np.append(data_n,str(x))\n",
        "#print(data_n)\n",
        "for j in range(6) :\n",
        "  b = int(data_n[j])\n",
        "  x = data_ch[b]\n",
        "  data_n1 = np.append(data_n1,str(x))\n",
        "print(data_n1)"
      ],
      "metadata": {
        "colab": {
          "base_uri": "https://localhost:8080/"
        },
        "id": "C3CQFKFsIVAO",
        "outputId": "876a8087-16e8-4456-bd9f-7c95366d6797"
      },
      "execution_count": 76,
      "outputs": [
        {
          "output_type": "stream",
          "name": "stdout",
          "text": [
            "['0' '8' '3' 'A' '4' '1']\n"
          ]
        }
      ]
    }
  ]
}