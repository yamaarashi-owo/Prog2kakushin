{
  "nbformat": 4,
  "nbformat_minor": 0,
  "metadata": {
    "colab": {
      "provenance": [],
      "authorship_tag": "ABX9TyN/Lx78M5n+AfqIBHXBMgZT",
      "include_colab_link": true
    },
    "kernelspec": {
      "name": "python3",
      "display_name": "Python 3"
    },
    "language_info": {
      "name": "python"
    }
  },
  "cells": [
    {
      "cell_type": "markdown",
      "metadata": {
        "id": "view-in-github",
        "colab_type": "text"
      },
      "source": [
        "<a href=\"https://colab.research.google.com/github/yamaarashi-owo/Prog2kakushin/blob/main/work3.ipynb\" target=\"_parent\"><img src=\"https://colab.research.google.com/assets/colab-badge.svg\" alt=\"Open In Colab\"/></a>"
      ]
    },
    {
      "cell_type": "markdown",
      "source": [
        "簡易QRコード\n",
        "\n",
        "QRコードを読み込むことも作ることもできる。\n",
        "５×５マスで、角３マスを向きを確認するために用いたので２２文字のデータを入れることができる。"
      ],
      "metadata": {
        "id": "07hdjfCrGJ1R"
      }
    },
    {
      "cell_type": "code",
      "execution_count": null,
      "metadata": {
        "id": "LiMeb2S7GGz5"
      },
      "outputs": [],
      "source": [
        "import numpy as np\n",
        "import cv2, sys\n",
        "from google.colab.patches import cv2_imshow\n",
        "import glob"
      ]
    },
    {
      "cell_type": "code",
      "source": [
        "!wget \"https://drive.google.com/uc?export=download&id=1qteNdBp1DseJOphxhfKS7-grQdT8XfHc\" -O images.zip\n",
        "!unzip -o images.zip\n",
        "\n",
        "# https://drive.google.com/file/d/1qteNdBp1DseJOphxhfKS7-grQdT8XfHc/view?usp=drive_link"
      ],
      "metadata": {
        "colab": {
          "base_uri": "https://localhost:8080/"
        },
        "id": "G0yQdBJNOS1N",
        "outputId": "291330ad-3144-4482-a6a9-c8d60efebedb"
      },
      "execution_count": null,
      "outputs": [
        {
          "output_type": "stream",
          "name": "stdout",
          "text": [
            "--2024-01-18 20:25:38--  https://drive.google.com/uc?export=download&id=1qteNdBp1DseJOphxhfKS7-grQdT8XfHc\n",
            "Resolving drive.google.com (drive.google.com)... 173.194.217.138, 173.194.217.102, 173.194.217.139, ...\n",
            "Connecting to drive.google.com (drive.google.com)|173.194.217.138|:443... connected.\n",
            "HTTP request sent, awaiting response... 303 See Other\n",
            "Location: https://drive.usercontent.google.com/download?id=1qteNdBp1DseJOphxhfKS7-grQdT8XfHc&export=download [following]\n",
            "--2024-01-18 20:25:38--  https://drive.usercontent.google.com/download?id=1qteNdBp1DseJOphxhfKS7-grQdT8XfHc&export=download\n",
            "Resolving drive.usercontent.google.com (drive.usercontent.google.com)... 173.194.216.132, 2607:f8b0:400c:c12::84\n",
            "Connecting to drive.usercontent.google.com (drive.usercontent.google.com)|173.194.216.132|:443... connected.\n",
            "HTTP request sent, awaiting response... 200 OK\n",
            "Length: 444 [application/octet-stream]\n",
            "Saving to: ‘images.zip’\n",
            "\n",
            "images.zip          100%[===================>]     444  --.-KB/s    in 0s      \n",
            "\n",
            "2024-01-18 20:25:39 (36.8 MB/s) - ‘images.zip’ saved [444/444]\n",
            "\n",
            "Archive:  images.zip\n",
            "  inflating: QR_kaitenn.png          \n"
          ]
        }
      ]
    },
    {
      "cell_type": "code",
      "source": [
        "#450＊450の黒の画像を作る\n",
        "img_black = np.zeros((500,500,3), np.uint8)\n",
        "#cv2_imshow(img_black)\n",
        "cv2.imwrite('black.jpg',img_black)"
      ],
      "metadata": {
        "colab": {
          "base_uri": "https://localhost:8080/"
        },
        "id": "1OvrZSPf0E9V",
        "outputId": "405a50d1-6fdf-4b67-c7c5-7d8ffeb05483"
      },
      "execution_count": null,
      "outputs": [
        {
          "output_type": "execute_result",
          "data": {
            "text/plain": [
              "True"
            ]
          },
          "metadata": {},
          "execution_count": 2
        }
      ]
    },
    {
      "cell_type": "code",
      "source": [
        "#文字データを作る\n",
        "data_ch = np.array(['0','1','2','3','4','5','6','7','8','9',\n",
        "                    'A','B','C','D','E','F','G','H','I','J',\n",
        "                    'K','L','M','N','O','P','Q','R','S','T',\n",
        "                    'U','V','W','X','Y','Z',\n",
        "                    'a','b','c','d','e','f','g','h','i','j',\n",
        "                    'k','l','m','n','o','p','q','r','s','t',\n",
        "                    'u','v','w','x','y','z'])\n",
        "#色データを作る\n",
        "data_co = np.array([250000250,250000200,250000150,250000100,250000050,250250000,250200000,250150000,250100000,250050000,\n",
        "                    200000250,200000200,200000150,200000100,200000050,200250000,200200000,200150000,200100000,200050000,\n",
        "                    150000250,150000200,150000150,150000100,150000050,150250000,150200000,150150000,150100000,150050000,\n",
        "                    100000250,100000200,100000150,100000100,100000050,100250000,\n",
        "                    250250250,250250200,250250150,250250100,250250050,250200250,250200200,250200150,250200100,250200050,\n",
        "                    250150250,250150200,250150150,250150100,250150050,250100250,250100200,250100150,250100100,250100050,\n",
        "                    250050250,250050200,250050150,250050100,250050050,200150150])"
      ],
      "metadata": {
        "id": "h_yC9z2q1Ztf"
      },
      "execution_count": null,
      "outputs": []
    },
    {
      "cell_type": "code",
      "source": [
        "moji = input('数字またはアルファベット22個：')\n",
        "if len(moji) == 22 :\n",
        "  print('入力された文字でQRコードを作成します。')\n",
        "else :\n",
        "  print('22文字で入力してください。')\n",
        "\n",
        "data_n = np.array([])\n",
        "data_n1 = np.array([])\n",
        "\n",
        "#入力から文字データ\n",
        "for i in range(22) :\n",
        "  a = moji[i]\n",
        "  x = np.where(data_ch == a)[0][0]\n",
        "  data_n = np.append(data_n,str(x))\n",
        "#print(data_n)\n",
        "\n",
        "#文字データから色データ\n",
        "for j in range(22) :\n",
        "  b = int(data_n[j])\n",
        "  x = data_co[b]\n",
        "  data_n1 = np.append(data_n1,str(x))\n",
        "#print(data_n1)"
      ],
      "metadata": {
        "colab": {
          "base_uri": "https://localhost:8080/"
        },
        "id": "w3mnfHs32Mgy",
        "outputId": "25b13ae8-1aaa-45d1-ee4d-181131637c0e"
      },
      "execution_count": null,
      "outputs": [
        {
          "output_type": "stream",
          "name": "stdout",
          "text": [
            "数字と大文字アルファベット22個：HIjsikhA71345OKimlqr89\n",
            "入力された文字でQRコードを作成します。\n"
          ]
        }
      ]
    },
    {
      "cell_type": "code",
      "source": [
        "#色データから画像\n",
        "img_b = cv2.imread('black.jpg')\n",
        "\n",
        "\n",
        "for i in range(22) :\n",
        "  B = int(data_n1[i][:3])\n",
        "  G = int(data_n1[i][3:6])\n",
        "  R = int(data_n1[i][6:])\n",
        "\n",
        "  img = np.full((100,100,3),(B,G,R))\n",
        "\n",
        "  if i <= 2 :\n",
        "    img_b[0:100,100*(i+1):100*(i+2)] = img\n",
        "  elif i <= 7 :\n",
        "    img_b[100:200,100*(i-3):100*(i-2)] = img\n",
        "  elif i <= 12 :\n",
        "    img_b[200:300,100*(i-8):100*(i-7)] = img\n",
        "  elif i <= 17 :\n",
        "    img_b[300:400,100*(i-13):100*(i-12)] = img\n",
        "  else :\n",
        "    img_b[400:500,100*(i-17):100*(i-16)] = img\n",
        "\n",
        "\n",
        "cv2_imshow(img_b)\n",
        "cv2.imwrite('QR.png',img_b)"
      ],
      "metadata": {
        "colab": {
          "base_uri": "https://localhost:8080/",
          "height": 535
        },
        "id": "uZMdStp--qCi",
        "outputId": "108e7479-aaa6-4570-df75-f17ece19fb35"
      },
      "execution_count": null,
      "outputs": [
        {
          "output_type": "display_data",
          "data": {
            "text/plain": [
              "<PIL.Image.Image image mode=RGB size=500x500>"
            ],
            "image/png": "[encoded data removed]"
          },
          "metadata": {}
        },
        {
          "output_type": "execute_result",
          "data": {
            "text/plain": [
              "True"
            ]
          },
          "metadata": {},
          "execution_count": 38
        }
      ]
    },
    {
      "cell_type": "code",
      "source": [
        "img_qr = cv2.imread('QR.png')\n",
        "data_cr = np.array([])\n",
        "#cv2_imshow(img_qr)\n",
        "\n",
        "#画像の角度調整\n",
        "while True :\n",
        "  ms = img_qr[450,450][0] + img_qr[450,450][1] + img_qr[450,450][2]\n",
        "  if ms != 0 :\n",
        "    break\n",
        "  img_qr = cv2.rotate(img_qr,cv2.ROTATE_90_CLOCKWISE)\n",
        "  #cv2_imshow(img_qr)\n",
        "\n",
        "#画像から色データ\n",
        "for iy in range(5) :\n",
        "  for ix in range(5) :\n",
        "    Br2 = f'{(img_qr[50+iy*100,50+ix*100][0]):03}'\n",
        "    Gr2 = f'{(img_qr[50+iy*100,50+ix*100][1]):03}'\n",
        "    Rr2 = f'{(img_qr[50+iy*100,50+ix*100][2]):03}'\n",
        "    x = Br2 + Gr2 + Rr2\n",
        "    #print(Br2,Gr2,Rr2)\n",
        "    if x != '000000000' :\n",
        "      data_cr = np.append(data_cr,x)\n",
        "\n",
        "#print(data_cr)"
      ],
      "metadata": {
        "id": "23t1coOuCwK9",
        "colab": {
          "base_uri": "https://localhost:8080/"
        },
        "outputId": "dd2bd07e-29d2-478f-fb87-33d16a62e793"
      },
      "execution_count": null,
      "outputs": [
        {
          "output_type": "stream",
          "name": "stderr",
          "text": [
            "<ipython-input-39-f43e7daa66a6>:7: RuntimeWarning: overflow encountered in ubyte_scalars\n",
            "  ms = img_qr[450,450][0] + img_qr[450,450][1] + img_qr[450,450][2]\n"
          ]
        }
      ]
    },
    {
      "cell_type": "code",
      "source": [
        "#色データから文字データ\n",
        "data_o = np.array([])\n",
        "\n",
        "for i in range(22) :\n",
        "  a = int(data_cr[i])\n",
        "  x = np.where(data_co == a)[0][0]\n",
        "  y = data_ch[x]\n",
        "  data_o = np.append(data_o,str(y))\n",
        "#print(data_o)\n",
        "\n",
        "data_l = ''.join(data_o)\n",
        "print('QRコードから読み込んだデータは',data_l ,'です')"
      ],
      "metadata": {
        "colab": {
          "base_uri": "https://localhost:8080/"
        },
        "id": "C3CQFKFsIVAO",
        "outputId": "b7183a4c-2f99-4a81-a876-92558bd4e713"
      },
      "execution_count": null,
      "outputs": [
        {
          "output_type": "stream",
          "name": "stdout",
          "text": [
            "QRコードから読み込んだデータは HIjsikhA71345OKimlqr89 です\n"
          ]
        }
      ]
    }
  ]
}