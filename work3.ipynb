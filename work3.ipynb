{
  "nbformat": 4,
  "nbformat_minor": 0,
  "metadata": {
    "colab": {
      "provenance": [],
      "authorship_tag": "ABX9TyNjaFI39xy34s3t9jAYhWEa",
      "include_colab_link": true
    },
    "kernelspec": {
      "name": "python3",
      "display_name": "Python 3"
    },
    "language_info": {
      "name": "python"
    }
  },
  "cells": [
    {
      "cell_type": "markdown",
      "metadata": {
        "id": "view-in-github",
        "colab_type": "text"
      },
      "source": [
        "<a href=\"https://colab.research.google.com/github/yamaarashi-owo/Prog2kakushin/blob/main/work3.ipynb\" target=\"_parent\"><img src=\"https://colab.research.google.com/assets/colab-badge.svg\" alt=\"Open In Colab\"/></a>"
      ]
    },
    {
      "cell_type": "markdown",
      "source": [
        "簡易QRコード\n",
        "\n",
        "QRコードを読み込むことも作ることもできる。\n",
        "５×５マスで、角３マスを向きを確認するために用いたので２２文字のデータを入れることができる。"
      ],
      "metadata": {
        "id": "07hdjfCrGJ1R"
      }
    },
    {
      "cell_type": "code",
      "execution_count": 69,
      "metadata": {
        "id": "LiMeb2S7GGz5"
      },
      "outputs": [],
      "source": [
        "import numpy as np\n",
        "import cv2, sys\n",
        "from google.colab.patches import cv2_imshow\n",
        "import glob"
      ]
    },
    {
      "cell_type": "code",
      "source": [
        "#450＊450の黒の画像を作る\n",
        "img_black = np.zeros((500,500,3), np.uint8)\n",
        "#cv2_imshow(img_black)\n",
        "cv2.imwrite('black.jpg',img_black)"
      ],
      "metadata": {
        "colab": {
          "base_uri": "https://localhost:8080/"
        },
        "id": "1OvrZSPf0E9V",
        "outputId": "cc6f03ff-5f06-48e3-b4eb-933f8032138c"
      },
      "execution_count": 87,
      "outputs": [
        {
          "output_type": "execute_result",
          "data": {
            "text/plain": [
              "True"
            ]
          },
          "metadata": {},
          "execution_count": 87
        }
      ]
    },
    {
      "cell_type": "code",
      "source": [
        "#文字データを作る\n",
        "data_ch = np.array(['0','1','2','3','4','5','6','7','8','9',\n",
        "                    'A','B','C','D','E','F','G','H','I','J',\n",
        "                    'K','L','M','N','O','P','Q','R','S','T',\n",
        "                    'U','V','W','X','Y','Z'])\n",
        "#色データを作る\n",
        "data_co = np.array([250000250,250000200,250000150,250000100,250000050,250250000,250200000,250150000,250100000,250050000,\n",
        "                    200000250,200000200,200000150,200000100,200000050,200250000,200200000,200150000,200100000,200050000,\n",
        "                    150000250,150000200,150000150,150000100,150000050,150250000,150200000,150150000,150100000,150050000,\n",
        "                    100000250,100000200,100000150,100000100,100000050,100250000,100200000,100150000,100100000,100050000])"
      ],
      "metadata": {
        "id": "h_yC9z2q1Ztf"
      },
      "execution_count": 108,
      "outputs": []
    },
    {
      "cell_type": "code",
      "source": [
        "moji = input('数字と大文字アルファベット22個：')\n",
        "if len(moji) == 22 :\n",
        "  print('入力された文字でQRコードを作成します。')\n",
        "else :\n",
        "  print('22文字で入力してください。')\n",
        "\n",
        "data_n = np.array([])\n",
        "data_n1 = np.array([])\n",
        "\n",
        "#入力から文字データ\n",
        "for i in range(22) :\n",
        "  a = moji[i]\n",
        "  x = np.where(data_ch == a)[0][0]\n",
        "  data_n = np.append(data_n,str(x))\n",
        "#print(data_n)\n",
        "\n",
        "#文字データから色データ\n",
        "for j in range(22) :\n",
        "  b = int(data_n[j])\n",
        "  x = data_co[b]\n",
        "  data_n1 = np.append(data_n1,str(x))\n",
        "#print(data_n1)"
      ],
      "metadata": {
        "colab": {
          "base_uri": "https://localhost:8080/"
        },
        "id": "w3mnfHs32Mgy",
        "outputId": "f7b795be-0ad5-425c-935d-21457f60f607"
      },
      "execution_count": 130,
      "outputs": [
        {
          "output_type": "stream",
          "name": "stdout",
          "text": [
            "数字と大文字アルファベット22個：20240116HIROSHIMACITYU\n",
            "入力された文字でQRコードを作成します。\n"
          ]
        }
      ]
    },
    {
      "cell_type": "code",
      "source": [
        "#色データから画像\n",
        "img_b = cv2.imread('black.jpg')\n",
        "\n",
        "\n",
        "for i in range(22) :\n",
        "  B = int(data_n1[i][:3])\n",
        "  G = int(data_n1[i][3:6])\n",
        "  R = int(data_n1[i][6:])\n",
        "\n",
        "  img = np.full((100,100,3),(B,G,R))\n",
        "\n",
        "  if i <= 2 :\n",
        "    img_b[0:100,100*(i+1):100*(i+2)] = img\n",
        "  elif i <= 7 :\n",
        "    img_b[100:200,100*(i-3):100*(i-2)] = img\n",
        "  elif i <= 12 :\n",
        "    img_b[200:300,100*(i-8):100*(i-7)] = img\n",
        "  elif i <= 17 :\n",
        "    img_b[300:400,100*(i-13):100*(i-12)] = img\n",
        "  else :\n",
        "    img_b[400:500,100*(i-17):100*(i-16)] = img\n",
        "\n",
        "\n",
        "cv2_imshow(img_b)\n",
        "cv2.imwrite('QR.png',img_b)"
      ],
      "metadata": {
        "colab": {
          "base_uri": "https://localhost:8080/",
          "height": 535
        },
        "id": "uZMdStp--qCi",
        "outputId": "da499e7d-fecc-4ac6-bcce-9003bd9d565d"
      },
      "execution_count": 131,
      "outputs": [
        {
          "output_type": "display_data",
          "data": {
            "text/plain": [
              "<PIL.Image.Image image mode=RGB size=500x500>"
            ],
            "image/png": "[encoded data removed]"
          },
          "metadata": {}
        },
        {
          "output_type": "execute_result",
          "data": {
            "text/plain": [
              "True"
            ]
          },
          "metadata": {},
          "execution_count": 131
        }
      ]
    },
    {
      "cell_type": "code",
      "source": [
        "#画像の角度調整\n",
        "\n",
        "\n",
        "#画像から色データ\n",
        "img_qr = cv2.imread('QR.png')\n",
        "data_cr = np.array([])\n",
        "for iy in range(5) :\n",
        "  for ix in range(5) :\n",
        "    Br = f'{(img_qr[50+iy*100,50+ix*100][0]):03}'\n",
        "    Gr = f'{(img_qr[50+iy*100,50+ix*100][1]):03}'\n",
        "    Rr = f'{(img_qr[50+iy*100,50+ix*100][2]):03}'\n",
        "    x = Br + Gr + Rr\n",
        "    #print(Br,Gr,Rr)\n",
        "    if x != '000000000' :\n",
        "      data_cr = np.append(data_cr,x)\n",
        "\n",
        "#print(data_cr)"
      ],
      "metadata": {
        "id": "23t1coOuCwK9"
      },
      "execution_count": 132,
      "outputs": []
    },
    {
      "cell_type": "code",
      "source": [
        "#色データから文字データ\n",
        "data_o = np.array([])\n",
        "\n",
        "for i in range(22) :\n",
        "  a = int(data_cr[i])\n",
        "  x = np.where(data_co == a)[0][0]\n",
        "  y = data_ch[x]\n",
        "  data_o = np.append(data_o,str(y))\n",
        "#print(data_o)\n",
        "\n",
        "data_l = ''.join(data_o)\n",
        "print(data_l)"
      ],
      "metadata": {
        "colab": {
          "base_uri": "https://localhost:8080/"
        },
        "id": "C3CQFKFsIVAO",
        "outputId": "adf4da1a-741d-43ee-e4b1-315a8fbdb4ff"
      },
      "execution_count": 133,
      "outputs": [
        {
          "output_type": "stream",
          "name": "stdout",
          "text": [
            "20240116HIROSHIMACITYU\n"
          ]
        }
      ]
    }
  ]
}