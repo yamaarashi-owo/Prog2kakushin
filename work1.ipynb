{
  "nbformat": 4,
  "nbformat_minor": 0,
  "metadata": {
    "colab": {
      "provenance": [],
      "authorship_tag": "ABX9TyNilWw6Bdh/s/MqTAPA9ONg",
      "include_colab_link": true
    },
    "kernelspec": {
      "name": "python3",
      "display_name": "Python 3"
    },
    "language_info": {
      "name": "python"
    }
  },
  "cells": [
    {
      "cell_type": "markdown",
      "metadata": {
        "id": "view-in-github",
        "colab_type": "text"
      },
      "source": [
        "<a href=\"https://colab.research.google.com/github/yamaarashi-owo/Prog2kakushin/blob/main/work1.ipynb\" target=\"_parent\"><img src=\"https://colab.research.google.com/assets/colab-badge.svg\" alt=\"Open In Colab\"/></a>"
      ]
    },
    {
      "cell_type": "markdown",
      "source": [
        "市区町村を入力すると大体の位置がわかるプログラム\n",
        "\n",
        "地図を画像にするとずれたので、全国を青点で、１点だけ赤にすることで位置を表した。\n"
      ],
      "metadata": {
        "id": "OsGsfbBNFTiK"
      }
    },
    {
      "cell_type": "code",
      "execution_count": null,
      "metadata": {
        "id": "SHnOhw5nFNRp"
      },
      "outputs": [],
      "source": [
        "import csv\n",
        "from matplotlib import pyplot as plt\n",
        "import pandas as pd"
      ]
    },
    {
      "cell_type": "code",
      "source": [
        "!wget \"https://drive.google.com/uc?export=download&id=1uz59ckcs9WE5NEiJqQ66i_9SZOWf7_ft\" -O mapcode.csv"
      ],
      "metadata": {
        "colab": {
          "base_uri": "https://localhost:8080/"
        },
        "id": "mPi1OtmSyI_7",
        "outputId": "6b589167-0ca5-40ac-9e1a-4b0be3ae67b0"
      },
      "execution_count": null,
      "outputs": [
        {
          "output_type": "stream",
          "name": "stdout",
          "text": [
            "--2024-01-18 22:54:32--  https://drive.google.com/uc?export=download&id=1uz59ckcs9WE5NEiJqQ66i_9SZOWf7_ft\n",
            "Resolving drive.google.com (drive.google.com)... 172.217.15.238, 2607:f8b0:4025:802::200e\n",
            "Connecting to drive.google.com (drive.google.com)|172.217.15.238|:443... connected.\n",
            "HTTP request sent, awaiting response... 303 See Other\n",
            "Location: https://drive.usercontent.google.com/download?id=1uz59ckcs9WE5NEiJqQ66i_9SZOWf7_ft&export=download [following]\n",
            "--2024-01-18 22:54:32--  https://drive.usercontent.google.com/download?id=1uz59ckcs9WE5NEiJqQ66i_9SZOWf7_ft&export=download\n",
            "Resolving drive.usercontent.google.com (drive.usercontent.google.com)... 172.217.12.1, 2607:f8b0:4025:815::2001\n",
            "Connecting to drive.usercontent.google.com (drive.usercontent.google.com)|172.217.12.1|:443... connected.\n",
            "HTTP request sent, awaiting response... 200 OK\n",
            "Length: 106110 (104K) [application/octet-stream]\n",
            "Saving to: ‘mapcode.csv’\n",
            "\n",
            "mapcode.csv         100%[===================>] 103.62K  --.-KB/s    in 0.05s   \n",
            "\n",
            "2024-01-18 22:54:33 (2.17 MB/s) - ‘mapcode.csv’ saved [106110/106110]\n",
            "\n"
          ]
        }
      ]
    },
    {
      "cell_type": "code",
      "source": [
        "df = pd.read_csv('mapcode.csv', header=None)\n",
        "\n",
        "df[6] = df[1] + df[2] + df[3]\n",
        "\n",
        "a = input('住所を入力してください：')\n",
        "\n",
        "df3 = df[df[6]== a]\n",
        "print(df3)\n",
        "\n",
        "plt.scatter(df[5], df[4],c ='blue')\n",
        "plt.scatter(df3[5], df3[4],c ='red')\n",
        "\n",
        "plt.show()"
      ],
      "metadata": {
        "colab": {
          "base_uri": "https://localhost:8080/",
          "height": 484
        },
        "id": "UFPj2fDWyLkP",
        "outputId": "cf3d2282-de73-4fbe-f9a5-dec3fd9967ae"
      },
      "execution_count": 14,
      "outputs": [
        {
          "output_type": "stream",
          "name": "stdout",
          "text": [
            "住所を入力してください：愛知県名古屋市南区\n",
            "           0    1     2   3          4           5          6\n",
            "1063  231126  愛知県  名古屋市  南区  35.095169  136.931242  愛知県名古屋市南区\n"
          ]
        },
        {
          "output_type": "display_data",
          "data": {
            "text/plain": [
              "<Figure size 640x480 with 1 Axes>"
            ],
            "image/png": "[encoded data removed]"
          },
          "metadata": {}
        }
      ]
    }
  ]
}